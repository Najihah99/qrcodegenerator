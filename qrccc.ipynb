{
 "cells": [
  {
   "cell_type": "code",
   "execution_count": 1,
   "metadata": {},
   "outputs": [],
   "source": [
    "import qrcode\n",
    "import uuid\n",
    "import pdfkit\n",
    "import numpy as np"
   ]
  },
  {
   "cell_type": "code",
   "execution_count": 2,
   "metadata": {},
   "outputs": [],
   "source": [
    "input_data=\"https://passport.prasarana.com.my/jw/web/userview/F124/testkitview/_/testkit?testkit=\"\n",
    "count = 5005"
   ]
  },
  {
   "cell_type": "markdown",
   "metadata": {},
   "source": [
    "Qrcode link add with the generated unique id"
   ]
  },
  {
   "cell_type": "code",
   "execution_count": 3,
   "metadata": {},
   "outputs": [],
   "source": [
    "urls=[]\n",
    "myuuid=[]\n",
    "for x in range(count):\n",
    "    myuuid.append(str(uuid.uuid4()))\n",
    "    urls.append(input_data + myuuid[x])\n",
    "    \n",
    "    "
   ]
  },
  {
   "cell_type": "markdown",
   "metadata": {},
   "source": [
    "Qrcode image generator"
   ]
  },
  {
   "cell_type": "code",
   "execution_count": 4,
   "metadata": {},
   "outputs": [],
   "source": [
    "\n",
    "for y in range(len(urls)):\n",
    "    qr= qrcode.QRCode(version=1, box_size=10, border=5)\n",
    "    qr.add_data(urls[y])\n",
    "    qr.make(fit=True)\n",
    "    img = qr.make_image()\n",
    "    img.save('qrimage/'+ myuuid[y]+'.png')"
   ]
  },
  {
   "cell_type": "markdown",
   "metadata": {},
   "source": [
    "the image of qrcode being insert into the template. qrimage is the name in the template"
   ]
  },
  {
   "cell_type": "code",
   "execution_count": 5,
   "metadata": {},
   "outputs": [],
   "source": [
    "n = 1\n",
    "for z in range(0,count,35):\n",
    "    html_file = open(\"qrd.htm\",\"r\").read()\n",
    "    html_out = html_file.format(\n",
    "        qrimg1=myuuid[z+0], qrimg2=myuuid[z+1], qrimg3=myuuid[z+2], qrimg4=myuuid[z+3], qrimg5=myuuid[z+4], qrimg6=myuuid[z+5], qrimg7=myuuid[z+6], qrimg8=myuuid[z+7], qrimg9=myuuid[z+8], qrimg10=myuuid[z+9], qrimg11=myuuid[z+10], qrimg12=myuuid[z+11], qrimg13=myuuid[z+12], qrimg14=myuuid[z+13], qrimg15=myuuid[z+14], qrimg16=myuuid[z+15], qrimg17=myuuid[z+16],qrimg18=myuuid[z+17], qrimg19=myuuid[z+18], qrimg20=myuuid[z+19], qrimg21=myuuid[z+20], qrimg22=myuuid[z+21], qrimg23=myuuid[z+22], qrimg24=myuuid[z+23], qrimg25=myuuid[z+24], qrimg26=myuuid[z+25], qrimg27=myuuid[z+26], qrimg28=myuuid[z+27], qrimg29=myuuid[z+28], qrimg30=myuuid[z+29], qrimg31=myuuid[z+30], qrimg32=myuuid[z+31], qrimg33=myuuid[z+32] , qrimg34=myuuid[z+33], qrimg35=myuuid[z+34]\n",
    "    )\n",
    "    file_out=open(str(n) + \".html\", 'w')\n",
    "    file_out.write(html_out)\n",
    "    file_out.close()\n",
    "    n+=1\n",
    " "
   ]
  },
  {
   "cell_type": "markdown",
   "metadata": {},
   "source": [
    "import pdfkit\n",
    "template=get_template(\"qrd.htm\")\n",
    "for z in range(len(urls[y]))\n",
    "context=(\"\")"
   ]
  },
  {
   "cell_type": "markdown",
   "metadata": {},
   "source": [
    "This code for the size of the pdf file that we desired"
   ]
  },
  {
   "cell_type": "code",
   "execution_count": 6,
   "metadata": {},
   "outputs": [],
   "source": [
    "options = {\n",
    "    'page-size': 'A4',\n",
    "    'margin-top': '3.9cm',\n",
    "    'margin-right': '0.75cm',\n",
    "    'margin-bottom': '0.75cm',\n",
    "    'margin-left': '2.5cm',\n",
    "    'encoding': \"UTF-8\",\n",
    "    'custom-header' : [\n",
    "        ('Accept-Encoding', 'gzip')\n",
    "    ],\n",
    "    'enable-local-file-access': False,\n",
    "    'no-outline': None,\n",
    "    'orientation': 'Portrait',\n",
    "    'zoom': 0.7\n",
    "}"
   ]
  },
  {
   "cell_type": "markdown",
   "metadata": {},
   "source": [
    "This is where we will bind the template with content with the pdf file"
   ]
  },
  {
   "cell_type": "code",
   "execution_count": 7,
   "metadata": {},
   "outputs": [
    {
     "data": {
      "text/plain": [
       "True"
      ]
     },
     "execution_count": 7,
     "metadata": {},
     "output_type": "execute_result"
    }
   ],
   "source": [
    "bindpdf = []\n",
    "for a in range(int(count/35)):\n",
    "    bindpdf.append(str(a+1) + '.html')\n",
    "pdfkit.from_file(bindpdf, 'qrkit.pdf', options=options)"
   ]
  },
  {
   "cell_type": "markdown",
   "metadata": {},
   "source": [
    "This code is to write down all unique id used inside the qr code that have been generated"
   ]
  },
  {
   "cell_type": "code",
   "execution_count": 8,
   "metadata": {},
   "outputs": [],
   "source": [
    "\n",
    "my = np.array(myuuid)\n",
    "np.savetxt('myuuid.csv', my, delimiter=',', fmt='%s')"
   ]
  }
 ],
 "metadata": {
  "interpreter": {
   "hash": "8fac594bfae6525c0c41b4041d2d72effa188cc8ead05f81b1fab2bb098927fb"
  },
  "kernelspec": {
   "display_name": "Python 3.9.7 64-bit ('base': conda)",
   "language": "python",
   "name": "python3"
  },
  "language_info": {
   "codemirror_mode": {
    "name": "ipython",
    "version": 3
   },
   "file_extension": ".py",
   "mimetype": "text/x-python",
   "name": "python",
   "nbconvert_exporter": "python",
   "pygments_lexer": "ipython3",
   "version": "3.9.7"
  },
  "orig_nbformat": 4
 },
 "nbformat": 4,
 "nbformat_minor": 2
}
